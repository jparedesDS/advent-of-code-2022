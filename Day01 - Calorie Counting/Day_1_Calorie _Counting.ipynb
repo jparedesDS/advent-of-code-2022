{
 "cells": [
  {
   "cell_type": "code",
   "execution_count": 13,
   "metadata": {},
   "outputs": [
    {
     "name": "stdout",
     "output_type": "stream",
     "text": [
      "¿Cuántas calorías totales lleva el elfo?: 74394 calorías.\n",
      "¿Cuántas calorías llevan esos elfos en total?: 212836 calorías.\n"
     ]
    }
   ],
   "source": [
    "# Creamos una lista vacia para guardar los valores:\n",
    "df = []\n",
    "\n",
    "# Generamos el bucle por el cual comprobaremos linea por linea su valor y se iran sumando,\n",
    "# Cuando encuentra un valor '', guardaremos la suma de las calorias dadas en la lista vacia,\n",
    "# y volveremos a reiniciar su valor a 0 par aque siga sumando los siguientes valores que encuentre.\n",
    "\n",
    "with open('input.txt') as file:\n",
    "    calorias = 0\n",
    "    for linea in file.readlines():\n",
    "        linea = linea.strip()\n",
    "        if linea == '':\n",
    "            df.append(calorias)\n",
    "            calorias = 0\n",
    "        else:\n",
    "            calorias += int(linea)\n",
    "\n",
    "#Respuesta número 1:            \n",
    "print('¿Cuántas calorías totales lleva el elfo?:', max(df), 'calorías.')\n",
    "\n",
    "# Respuesta número 2:\n",
    "df = sorted(df)\n",
    "print('¿Cuántas calorías llevan esos elfos en total?:', df[-1] + df[-2] + df[-3], 'calorías.')"
   ]
  }
 ],
 "metadata": {
  "kernelspec": {
   "display_name": "Python 3.7.4 64-bit",
   "language": "python",
   "name": "python3"
  },
  "language_info": {
   "codemirror_mode": {
    "name": "ipython",
    "version": 3
   },
   "file_extension": ".py",
   "mimetype": "text/x-python",
   "name": "python",
   "nbconvert_exporter": "python",
   "pygments_lexer": "ipython3",
   "version": "3.7.4"
  },
  "orig_nbformat": 4,
  "vscode": {
   "interpreter": {
    "hash": "f71bf39f8f999aff904c5f8840192b43e08b1f29edc827622ce8ce1e90a24042"
   }
  }
 },
 "nbformat": 4,
 "nbformat_minor": 2
}
