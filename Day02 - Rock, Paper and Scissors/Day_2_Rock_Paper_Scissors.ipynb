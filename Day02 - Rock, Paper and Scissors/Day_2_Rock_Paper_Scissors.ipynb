{
 "cells": [
  {
   "cell_type": "code",
   "execution_count": 12,
   "metadata": {},
   "outputs": [
    {
     "name": "stdout",
     "output_type": "stream",
     "text": [
      "Parte 1:  9241\n",
      "Parte 2:  14610\n"
     ]
    }
   ],
   "source": [
    "# Cargamos el dataset y lo guardamos en una variable vacia\n",
    "df = open(\"input.txt\", 'r').read().splitlines()\n",
    "\n",
    "# Generamos la tabla de valores\n",
    "tabla_1 = {'A X': 4,'A Y': 8,'A Z': 3,'B X': 1,'B Y': 5,'B Z': 9,'C X': 7,'C Y': 2,'C Z': 6}\n",
    "tabla_2 = {'A X': 3,'A Y': 4,'A Z': 8,'B X': 1,'B Y': 5,'B Z': 9,'C X': 2,'C Y': 6,'C Z': 7}\n",
    "\n",
    "# Creamos las listas vacias\n",
    "lista_1 = []\n",
    "lista_2 = []\n",
    "\n",
    "# Generamos el bucle por el cual comprobaremos linea por linea su valor y se iran sumando,\n",
    "# Y lo guardaremos en una lista vacia.\n",
    "for x in df:\n",
    "    lista_1.append(tabla_1[x])\n",
    "    lista_2.append(tabla_2[x])\n",
    "\n",
    "# Sumamos la puntuacion de cada lista\n",
    "puntuacion1 = sum(lista_1)\n",
    "puntuacion2 = sum(lista_2)\n",
    "\n",
    "#Respuesta número 1:            \n",
    "print('Parte 1: ', puntuacion1)\n",
    "\n",
    "#Respuesta número 2:            \n",
    "print('Parte 2: ', puntuacion2)"
   ]
  }
 ],
 "metadata": {
  "kernelspec": {
   "display_name": "Python 3.7.4 64-bit",
   "language": "python",
   "name": "python3"
  },
  "language_info": {
   "codemirror_mode": {
    "name": "ipython",
    "version": 3
   },
   "file_extension": ".py",
   "mimetype": "text/x-python",
   "name": "python",
   "nbconvert_exporter": "python",
   "pygments_lexer": "ipython3",
   "version": "3.7.4"
  },
  "orig_nbformat": 4,
  "vscode": {
   "interpreter": {
    "hash": "f71bf39f8f999aff904c5f8840192b43e08b1f29edc827622ce8ce1e90a24042"
   }
  }
 },
 "nbformat": 4,
 "nbformat_minor": 2
}
