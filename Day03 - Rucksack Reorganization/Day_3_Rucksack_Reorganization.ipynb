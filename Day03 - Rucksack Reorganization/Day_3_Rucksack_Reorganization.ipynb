{
 "cells": [
  {
   "cell_type": "markdown",
   "metadata": {},
   "source": [
    "## PART 1"
   ]
  },
  {
   "cell_type": "code",
   "execution_count": 2,
   "metadata": {},
   "outputs": [
    {
     "name": "stdout",
     "output_type": "stream",
     "text": [
      "Parte 1:  7785\n"
     ]
    }
   ],
   "source": [
    "# Cargamos el dataset y lo guardamos en una variable vacia\n",
    "df = open(\"input.txt\", 'r')\n",
    "lineas=df.readlines()\n",
    "total_lines = len(lineas)\n",
    "\n",
    "i=0\n",
    "score_total=0\n",
    "\n",
    "# generamos el bucle\n",
    "while i < total_lines:\n",
    "    mitad=len(lineas[i])//2\n",
    "    a = lineas[i][:mitad]\n",
    "    b = lineas[i][mitad:]\n",
    "    mismo_obj= set(a) & set(b)\n",
    "    score = ord(list(mismo_obj)[0].swapcase())-64\n",
    "    if score > 27:\n",
    "        score=score-6\n",
    "    score_total = score_total + score\n",
    "    i=i+1\n",
    "\n",
    "#Respuesta número 1:            \n",
    "print('Parte 1: ', score_total)\n"
   ]
  },
  {
   "cell_type": "markdown",
   "metadata": {},
   "source": [
    "## PART 2"
   ]
  },
  {
   "cell_type": "code",
   "execution_count": 6,
   "metadata": {},
   "outputs": [
    {
     "name": "stdout",
     "output_type": "stream",
     "text": [
      "Parte 2:  2633\n"
     ]
    }
   ],
   "source": [
    "# Cargamos el dataset y lo guardamos en una variable vacia\n",
    "df = open(\"input.txt\", 'r')\n",
    "lineas=df.readlines()\n",
    "total_lines = len(lineas)\n",
    "\n",
    "i=0\n",
    "score_total=0\n",
    "\n",
    "# generamos el bucle\n",
    "while i < total_lines:\n",
    "    a = lineas[i]\n",
    "    b = lineas[i+1]\n",
    "    c = lineas[i+2]\n",
    "    mismo_obj= set(a) & set(b) & set(c)\n",
    "    mismo_obj.remove('\\n')\n",
    "    score = ord(list(mismo_obj)[0].swapcase())-64\n",
    "    if score > 27:\n",
    "        score=score-6\n",
    "    score_total = score_total + score\n",
    "    i=i+3\n",
    "\n",
    "#Respuesta número 2:            \n",
    "print('Parte 2: ', score_total)"
   ]
  }
 ],
 "metadata": {
  "kernelspec": {
   "display_name": "Python 3.7.4 64-bit",
   "language": "python",
   "name": "python3"
  },
  "language_info": {
   "codemirror_mode": {
    "name": "ipython",
    "version": 3
   },
   "file_extension": ".py",
   "mimetype": "text/x-python",
   "name": "python",
   "nbconvert_exporter": "python",
   "pygments_lexer": "ipython3",
   "version": "3.7.4"
  },
  "orig_nbformat": 4,
  "vscode": {
   "interpreter": {
    "hash": "f71bf39f8f999aff904c5f8840192b43e08b1f29edc827622ce8ce1e90a24042"
   }
  }
 },
 "nbformat": 4,
 "nbformat_minor": 2
}
